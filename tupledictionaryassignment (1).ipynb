{
 "cells": [
  {
   "cell_type": "markdown",
   "id": "fae08ca9",
   "metadata": {},
   "source": [
    "# Assignment 1"
   ]
  },
  {
   "cell_type": "markdown",
   "id": "862e0d33",
   "metadata": {},
   "source": [
    "#Q1. What are the characteristics of the tuples? Is tuple immutable?"
   ]
  },
  {
   "cell_type": "raw",
   "id": "6f998a32",
   "metadata": {},
   "source": [
    "*Ordered:Means the elements are stored in a specific sequence.\n",
    "*Immutable:Means once you create a tuple and assign values to its elements, you cannot change those values.\n",
    "*Indexed:We can access the elements through indexing.\n",
    "*Heterogeneous:It can contain elements of all data types.\n",
    "*Size:Tuples do not have built-in methods for adding, removing, or changing elements because of their immutability. This can make tuples slightly more memory-efficient than lists for small collections.\n",
    "*Hashable: Tuples are hashable, which means they can be used as keys in dictionaries and elements in sets.\n",
    "These are the some characteristics of tuples.\n",
    "\n",
    "Yes tuples are immutable."
   ]
  },
  {
   "cell_type": "code",
   "execution_count": null,
   "id": "37f4c4cd",
   "metadata": {},
   "outputs": [],
   "source": []
  },
  {
   "cell_type": "markdown",
   "id": "7a23ef7e",
   "metadata": {},
   "source": [
    "#Q2. What are the two tuple methods in python? Give a reason why\n",
    "tuples have only two in-built methods as compared to Lists.Give an example of each method. "
   ]
  },
  {
   "cell_type": "code",
   "execution_count": null,
   "id": "4a9a298d",
   "metadata": {},
   "outputs": [],
   "source": [
    "count() and index() are the two tuple methods are available in python.\n",
    "##Reason reason whytuples have only two in-built methods as compared to Lists.\n",
    "\n",
    "Tuples have fewer built-in methods compared to lists mainly due to their immutability, ensuring data integrity and hashability, while maintaining a simpler and consistent design.\n",
    "\n",
    "Example"
   ]
  },
  {
   "cell_type": "code",
   "execution_count": 9,
   "id": "8cd5eaa9",
   "metadata": {},
   "outputs": [
    {
     "name": "stdout",
     "output_type": "stream",
     "text": [
      "1\n",
      "(2, 9, 4)\n"
     ]
    }
   ],
   "source": [
    "tuple1=(1,2,9,4)\n",
    "print(tuple1.count(4)) #Returns the number of times 4 present in the tuple1\n",
    " \n",
    "print(tuple1[1:]) # It is used for indexting purpose"
   ]
  },
  {
   "cell_type": "code",
   "execution_count": null,
   "id": "64860521",
   "metadata": {},
   "outputs": [],
   "source": []
  },
  {
   "cell_type": "markdown",
   "id": "f3a05169",
   "metadata": {},
   "source": [
    "#Q3. Which collection datatypes in python do not allow duplicate items? Write a code using a set to remove\n",
    "duplicates from the given list.\n",
    "List = [1, 1, 1, 2, 1, 3, 1, 4, 2, 1, 2, 2, 2, 3, 2, 4, 3, 1, 3, 2, 3, 3, 3, 4, 4, 1, 4, 2, 4, 3, 4, 4]"
   ]
  },
  {
   "cell_type": "raw",
   "id": "0982df5f",
   "metadata": {},
   "source": [
    "SETS in python do not allow duplicate items."
   ]
  },
  {
   "cell_type": "code",
   "execution_count": 12,
   "id": "03352a38",
   "metadata": {},
   "outputs": [
    {
     "name": "stdout",
     "output_type": "stream",
     "text": [
      "{1, 2, 3, 4}\n"
     ]
    },
    {
     "data": {
      "text/plain": [
       "set"
      ]
     },
     "execution_count": 12,
     "metadata": {},
     "output_type": "execute_result"
    }
   ],
   "source": [
    "list1=[1, 1, 1, 2, 1, 3, 1, 4, 2, 1, 2, 2, 2, 3, 2, 4, 3, 1, 3, 2, 3, 3, 3, 4, 4, 1, 4, 2, 4, 3, 4, 4]\n",
    "s=set(list1)\n",
    "print(s)\n",
    "type(s)"
   ]
  },
  {
   "cell_type": "code",
   "execution_count": null,
   "id": "f64239c0",
   "metadata": {},
   "outputs": [],
   "source": []
  },
  {
   "cell_type": "markdown",
   "id": "c55f4591",
   "metadata": {},
   "source": [
    "#Q4. Explain the difference between the union() and update() methods for a set. Give an example of\n",
    "each method."
   ]
  },
  {
   "cell_type": "raw",
   "id": "9fdf7751",
   "metadata": {},
   "source": [
    "The union() method returns a new set with all unique elements from the involved sets, leaving the originals unchanged. The update() method adds elements from other sets to the original set, modifying it in place.\n",
    "Example"
   ]
  },
  {
   "cell_type": "code",
   "execution_count": 15,
   "id": "c8639c6d",
   "metadata": {},
   "outputs": [
    {
     "name": "stdout",
     "output_type": "stream",
     "text": [
      "{1, 2, 3, 4, 5}\n",
      "{1, 2, 3, 4, 5}\n",
      "{3, 4, 5}\n"
     ]
    }
   ],
   "source": [
    "set1 = {1, 2, 3}\n",
    "set2 = {3, 4, 5}\n",
    "set3 = set1.union(set2) #Example for union\n",
    "print(set3)            \n",
    "\n",
    "set1.update(set2) # Example for update\n",
    "print(set1)\n",
    "print(set2)"
   ]
  },
  {
   "cell_type": "code",
   "execution_count": null,
   "id": "ac43f2ec",
   "metadata": {},
   "outputs": [],
   "source": []
  },
  {
   "cell_type": "markdown",
   "id": "8d4d6cb1",
   "metadata": {},
   "source": [
    "#Q5. What is a dictionary? Give an example. Also, state whether a dictionary is ordered or unordered."
   ]
  },
  {
   "cell_type": "raw",
   "id": "51b1ec10",
   "metadata": {},
   "source": [
    "A dictionary in Python is a collection that stores key-value pairs. Each key is associated with a corresponding value, and we can use the key to retrieve the value quickly. \n",
    "\n",
    "#It is ordered or unordered\n",
    "Dictionaries are ordered, meaning they preserve the order of insertion.\n"
   ]
  },
  {
   "cell_type": "code",
   "execution_count": 16,
   "id": "0f3cb2ed",
   "metadata": {},
   "outputs": [
    {
     "name": "stdout",
     "output_type": "stream",
     "text": [
      "85\n",
      "92\n"
     ]
    }
   ],
   "source": [
    "student_scores = { \"Alice\": 85,\"Bob\": 92,\"Carol\": 78,\"David\": 65}\n",
    "print(student_scores[\"Alice\"]) \n",
    "print(student_scores[\"Bob\"])   "
   ]
  },
  {
   "cell_type": "code",
   "execution_count": null,
   "id": "11123603",
   "metadata": {},
   "outputs": [],
   "source": []
  },
  {
   "cell_type": "markdown",
   "id": "83c904f4",
   "metadata": {},
   "source": [
    "#Q6. Can we create a nested dictionary? If so, please give an example by creating a simple one-level\n",
    "nested dictionary."
   ]
  },
  {
   "cell_type": "code",
   "execution_count": 19,
   "id": "78361c82",
   "metadata": {},
   "outputs": [
    {
     "name": "stdout",
     "output_type": "stream",
     "text": [
      "28\n",
      "Developer\n"
     ]
    }
   ],
   "source": [
    "#Yes we can create a nested dictionary\n",
    "employee_details = {\"Alice\": {\"age\": 28,\"position\": \"Manager\"},\"Bob\": {\"age\": 24,\"position\": \"Developer\"},\"Carol\": {\"age\": 32,\"position\": \"Designer\"}}\n",
    "print(employee_details[\"Alice\"][\"age\"])      \n",
    "print(employee_details[\"Bob\"][\"position\"]) \n"
   ]
  },
  {
   "cell_type": "code",
   "execution_count": null,
   "id": "afc441fb",
   "metadata": {},
   "outputs": [],
   "source": []
  },
  {
   "cell_type": "markdown",
   "id": "883a1e32",
   "metadata": {},
   "source": [
    "#Q7. Using setdefault() method, create key named topics in the given dictionary and also add the value of\n",
    "the key as this list ['Python', 'Machine Learning’, 'Deep Learning']\n",
    "dict1 = {'language' : 'Python', 'course': 'Data Science Masters'}"
   ]
  },
  {
   "cell_type": "code",
   "execution_count": 21,
   "id": "dba5fc0b",
   "metadata": {},
   "outputs": [
    {
     "name": "stdout",
     "output_type": "stream",
     "text": [
      "{'language': 'Python', 'course': 'Data Science Masters', 'topics': ['Python', 'Machine Learning', 'Deep Learning']}\n"
     ]
    }
   ],
   "source": [
    "dict1 = {'language': 'Python', 'course': 'Data Science Masters'}\n",
    "\n",
    "dict1.setdefault(\"topics\", ['Python', 'Machine Learning', 'Deep Learning'])\n",
    "\n",
    "print(dict1)"
   ]
  },
  {
   "cell_type": "code",
   "execution_count": null,
   "id": "4abfd2c4",
   "metadata": {},
   "outputs": [],
   "source": []
  },
  {
   "cell_type": "markdown",
   "id": "373d09b3",
   "metadata": {},
   "source": [
    "#Q8. What are the three view objects in dictionaries? Use the three in-built methods in python to display\n",
    "these three view objects for the given dictionary.\n",
    "dict1 = {'Sport': 'Cricket' , 'Teams': ['India', 'Australia', 'England', 'South Africa', 'Sri Lanka', 'New Zealand']}"
   ]
  },
  {
   "cell_type": "raw",
   "id": "36d3e14f",
   "metadata": {},
   "source": [
    "In Python dictionaries, there are three types of view objects that provide different perspectives on the dictionary's data: dict_keys, dict_values, and dict_items. These view objects provide dynamic views into the dictionary's keys, values, and key-value pairs, respectively. They allow us to access the dictionary data without creating new lists, which can be more memory-efficient."
   ]
  },
  {
   "cell_type": "code",
   "execution_count": 23,
   "id": "fcf5681c",
   "metadata": {},
   "outputs": [
    {
     "name": "stdout",
     "output_type": "stream",
     "text": [
      "dict_keys(['Sport', 'Teams'])\n",
      "dict_values(['Cricket', ['India', 'Australia', 'England', 'South Africa', 'Sri Lanka', 'New Zealand']])\n",
      "dict_items([('Sport', 'Cricket'), ('Teams', ['India', 'Australia', 'England', 'South Africa', 'Sri Lanka', 'New Zealand'])])\n"
     ]
    }
   ],
   "source": [
    "dict1 = {'Sport': 'Cricket' , 'Teams': ['India', 'Australia', 'England', 'South Africa', 'Sri Lanka', 'New Zealand']}\n",
    "print(dict1.keys()) #Returns keys\n",
    "print(dict1.values())#Returns values\n",
    "print(dict1.items())#a set-like object providing a view on D's items"
   ]
  },
  {
   "cell_type": "code",
   "execution_count": null,
   "id": "9cb93e3d",
   "metadata": {},
   "outputs": [],
   "source": []
  },
  {
   "cell_type": "code",
   "execution_count": null,
   "id": "a8ceec88",
   "metadata": {},
   "outputs": [],
   "source": []
  },
  {
   "cell_type": "code",
   "execution_count": null,
   "id": "19cef6e7",
   "metadata": {},
   "outputs": [],
   "source": []
  },
  {
   "cell_type": "code",
   "execution_count": null,
   "id": "ef393234",
   "metadata": {},
   "outputs": [],
   "source": []
  },
  {
   "cell_type": "code",
   "execution_count": null,
   "id": "f5afe98a",
   "metadata": {},
   "outputs": [],
   "source": []
  },
  {
   "cell_type": "code",
   "execution_count": null,
   "id": "b2d9c996",
   "metadata": {},
   "outputs": [],
   "source": []
  },
  {
   "cell_type": "code",
   "execution_count": null,
   "id": "30e5c483",
   "metadata": {},
   "outputs": [],
   "source": []
  },
  {
   "cell_type": "code",
   "execution_count": null,
   "id": "b49ad3db",
   "metadata": {},
   "outputs": [],
   "source": []
  },
  {
   "cell_type": "code",
   "execution_count": null,
   "id": "6960bab5",
   "metadata": {},
   "outputs": [],
   "source": []
  }
 ],
 "metadata": {
  "kernelspec": {
   "display_name": "Python 3 (ipykernel)",
   "language": "python",
   "name": "python3"
  },
  "language_info": {
   "codemirror_mode": {
    "name": "ipython",
    "version": 3
   },
   "file_extension": ".py",
   "mimetype": "text/x-python",
   "name": "python",
   "nbconvert_exporter": "python",
   "pygments_lexer": "ipython3",
   "version": "3.11.3"
  }
 },
 "nbformat": 4,
 "nbformat_minor": 5
}
